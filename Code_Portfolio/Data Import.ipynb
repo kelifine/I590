{
 "cells": [
  {
   "cell_type": "markdown",
   "metadata": {},
   "source": [
    "## Data import\n",
    "\n",
    "### Pandas\n",
    "\n",
    "- import pandas as pd\n",
    "- pd.read_csv(path to file)\n",
    "- pd.read_excel(path to file)\n",
    "\n",
    "### Plain text files\n",
    "\n",
    "1. with open(file) as f:\n",
    "2. text = f.read()\n",
    "3. f.close()\n",
    "\n",
    "### Relational Databases\n",
    "\n",
    "1. from sqlalchemy import create_engine\n",
    "2. con = engine.connect()\n",
    "3. table = con.execute(SQL Query)\n",
    "4. df = pd.DataFrame(table.fetchall())\n",
    "5. df.columns = table.keys()\n",
    "6. con.close()"
   ]
  },
  {
   "cell_type": "code",
   "execution_count": null,
   "metadata": {},
   "outputs": [],
   "source": []
  }
 ],
 "metadata": {
  "kernelspec": {
   "display_name": "Python 3",
   "language": "python",
   "name": "python3"
  },
  "language_info": {
   "codemirror_mode": {
    "name": "ipython",
    "version": 3
   },
   "file_extension": ".py",
   "mimetype": "text/x-python",
   "name": "python",
   "nbconvert_exporter": "python",
   "pygments_lexer": "ipython3",
   "version": "3.5.5"
  },
  "toc": {
   "base_numbering": 1,
   "nav_menu": {},
   "number_sections": true,
   "sideBar": true,
   "skip_h1_title": false,
   "title_cell": "Table of Contents",
   "title_sidebar": "Contents",
   "toc_cell": false,
   "toc_position": {},
   "toc_section_display": true,
   "toc_window_display": false
  }
 },
 "nbformat": 4,
 "nbformat_minor": 2
}
